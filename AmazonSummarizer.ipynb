{
 "cells": [
  {
   "cell_type": "code",
   "execution_count": 8,
   "id": "a58b119a-dcce-44cb-bc42-e0d80686b681",
   "metadata": {},
   "outputs": [],
   "source": [
    "import pandas as pd"
   ]
  },
  {
   "cell_type": "code",
   "execution_count": 9,
   "id": "369757a5-8d87-4f5b-96b8-bfae5aafc130",
   "metadata": {},
   "outputs": [],
   "source": [
    "from functions.cleaning import cleaningRetailOrderHistDF\n",
    "from functions.parsing import parseRetailOrderHistDtypes"
   ]
  },
  {
   "cell_type": "code",
   "execution_count": 11,
   "id": "fc74e2d7-067f-4021-bad6-f4c689483383",
   "metadata": {},
   "outputs": [],
   "source": [
    "RetailOrderHistDF = pd.read_csv(\"D:\\ML wing\\Retail.OrderHistory.2.csv\")"
   ]
  },
  {
   "cell_type": "code",
   "execution_count": 12,
   "id": "4325ddd0-ae3a-4096-8605-62cc67438877",
   "metadata": {},
   "outputs": [
    {
     "data": {
      "text/plain": [
       "(30, 27)"
      ]
     },
     "execution_count": 12,
     "metadata": {},
     "output_type": "execute_result"
    }
   ],
   "source": [
    "#original shape\n",
    "RetailOrderHistDF.shape"
   ]
  },
  {
   "cell_type": "code",
   "execution_count": 13,
   "id": "ff45441f",
   "metadata": {},
   "outputs": [],
   "source": [
    "RetailOrderHistDF['Shipping Charge']=RetailOrderHistDF['Shipping Charge'].astype(float)"
   ]
  },
  {
   "cell_type": "code",
   "execution_count": 14,
   "id": "a3e02400-3b1e-4db8-95d7-300ee03fb888",
   "metadata": {},
   "outputs": [],
   "source": [
    "RetailOrderHistDF = parseRetailOrderHistDtypes(cleaningRetailOrderHistDF(RetailOrderHistDF))"
   ]
  },
  {
   "cell_type": "code",
   "execution_count": 15,
   "id": "6ebda688-de0d-4efe-b9e9-a2bb547ba83c",
   "metadata": {},
   "outputs": [
    {
     "name": "stdout",
     "output_type": "stream",
     "text": [
      "<class 'pandas.core.frame.DataFrame'>\n",
      "Int64Index: 30 entries, 0 to 29\n",
      "Data columns (total 27 columns):\n",
      " #   Column                          Non-Null Count  Dtype              \n",
      "---  ------                          --------------  -----              \n",
      " 0   Website                         30 non-null     object             \n",
      " 1   Order ID                        30 non-null     object             \n",
      " 2   Order Date                      30 non-null     datetime64[ns, UTC]\n",
      " 3   Purchase Order Number           0 non-null      float64            \n",
      " 4   Currency                        30 non-null     object             \n",
      " 5   Unit Price                      30 non-null     float64            \n",
      " 6   Unit Price Tax                  30 non-null     float64            \n",
      " 7   Shipping Charge                 30 non-null     float64            \n",
      " 8   Total Discounts                 30 non-null     float64            \n",
      " 9   Total Owed                      30 non-null     float64            \n",
      " 10  Shipment Item Subtotal          30 non-null     float64            \n",
      " 11  Shipment Item Subtotal Tax      30 non-null     float64            \n",
      " 12  ASIN                            30 non-null     object             \n",
      " 13  Product Condition               30 non-null     object             \n",
      " 14  Quantity                        30 non-null     int64              \n",
      " 15  Payment Instrument Type         4 non-null      object             \n",
      " 16  Order Status                    30 non-null     object             \n",
      " 17  Shipment Status                 28 non-null     object             \n",
      " 18  Ship Date                       30 non-null     datetime64[ns, UTC]\n",
      " 19  Shipping Option                 28 non-null     object             \n",
      " 20  Shipping Address                28 non-null     object             \n",
      " 21  Billing Address                 30 non-null     object             \n",
      " 22  Carrier Name & Tracking Number  26 non-null     object             \n",
      " 23  Product Name                    30 non-null     object             \n",
      " 24  Gift Message                    0 non-null      float64            \n",
      " 25  Gift Sender Name                0 non-null      float64            \n",
      " 26  Gift Recipient Contact Details  0 non-null      float64            \n",
      "dtypes: datetime64[ns, UTC](2), float64(11), int64(1), object(13)\n",
      "memory usage: 5.0+ KB\n"
     ]
    }
   ],
   "source": [
    "RetailOrderHistDF.info()"
   ]
  },
  {
   "cell_type": "code",
   "execution_count": 16,
   "id": "84a5744a",
   "metadata": {},
   "outputs": [],
   "source": [
    "from functions.filters import addMonth,addSeason,addTime,seasonly_spend,timely_spend\n"
   ]
  },
  {
   "cell_type": "code",
   "execution_count": 17,
   "id": "9a4e01c4",
   "metadata": {},
   "outputs": [
    {
     "data": {
      "text/plain": [
       "0     September\n",
       "1     September\n",
       "2     September\n",
       "3        August\n",
       "4        August\n",
       "5        August\n",
       "6        August\n",
       "7        August\n",
       "8        August\n",
       "9        August\n",
       "10       August\n",
       "11         July\n",
       "12         July\n",
       "13         July\n",
       "14         July\n",
       "15         July\n",
       "16         June\n",
       "17         June\n",
       "18         June\n",
       "19         June\n",
       "20          May\n",
       "21          May\n",
       "22          May\n",
       "23          May\n",
       "24          May\n",
       "25          May\n",
       "26          May\n",
       "27     February\n",
       "28      October\n",
       "29       August\n",
       "Name: month, dtype: object"
      ]
     },
     "execution_count": 17,
     "metadata": {},
     "output_type": "execute_result"
    }
   ],
   "source": [
    "addMonth(RetailOrderHistDF)\n",
    "RetailOrderHistDF['month']"
   ]
  },
  {
   "cell_type": "code",
   "execution_count": 18,
   "id": "a6e39b20",
   "metadata": {},
   "outputs": [
    {
     "data": {
      "text/plain": [
       "0       morning\n",
       "1       morning\n",
       "2       evening\n",
       "3       morning\n",
       "4       morning\n",
       "5       morning\n",
       "6     afternoon\n",
       "7       morning\n",
       "8       morning\n",
       "9       morning\n",
       "10      evening\n",
       "11      morning\n",
       "12      evening\n",
       "13      morning\n",
       "14      morning\n",
       "15    afternoon\n",
       "16    afternoon\n",
       "17      morning\n",
       "18      morning\n",
       "19      morning\n",
       "20      evening\n",
       "21    afternoon\n",
       "22      morning\n",
       "23      morning\n",
       "24      morning\n",
       "25      morning\n",
       "26      morning\n",
       "27      evening\n",
       "28      evening\n",
       "29      morning\n",
       "Name: time, dtype: object"
      ]
     },
     "execution_count": 18,
     "metadata": {},
     "output_type": "execute_result"
    }
   ],
   "source": [
    "addTime(RetailOrderHistDF)\n",
    "RetailOrderHistDF['time']"
   ]
  },
  {
   "cell_type": "code",
   "execution_count": 19,
   "id": "05a6dc58",
   "metadata": {},
   "outputs": [
    {
     "data": {
      "text/plain": [
       "0     autumn\n",
       "1     autumn\n",
       "2     autumn\n",
       "3      rainy\n",
       "4      rainy\n",
       "5      rainy\n",
       "6      rainy\n",
       "7      rainy\n",
       "8      rainy\n",
       "9      rainy\n",
       "10     rainy\n",
       "11     rainy\n",
       "12     rainy\n",
       "13     rainy\n",
       "14     rainy\n",
       "15     rainy\n",
       "16     rainy\n",
       "17     rainy\n",
       "18     rainy\n",
       "19     rainy\n",
       "20    summer\n",
       "21    summer\n",
       "22    summer\n",
       "23    summer\n",
       "24    summer\n",
       "25    summer\n",
       "26    summer\n",
       "27    winter\n",
       "28    autumn\n",
       "29     rainy\n",
       "Name: season, dtype: object"
      ]
     },
     "execution_count": 19,
     "metadata": {},
     "output_type": "execute_result"
    }
   ],
   "source": [
    "addSeason(RetailOrderHistDF)\n",
    "RetailOrderHistDF['season']\n"
   ]
  },
  {
   "cell_type": "code",
   "execution_count": 20,
   "id": "2566723d",
   "metadata": {},
   "outputs": [
    {
     "data": {
      "text/plain": [
       "time\n",
       "afternoon    323.250000\n",
       "evening      501.666667\n",
       "morning      387.588889\n",
       "Name: Total Owed, dtype: float64"
      ]
     },
     "execution_count": 20,
     "metadata": {},
     "output_type": "execute_result"
    }
   ],
   "source": [
    "timely_spending=timely_spend(RetailOrderHistDF)\n",
    "timely_spending\n"
   ]
  },
  {
   "cell_type": "code",
   "execution_count": 21,
   "id": "1921587e",
   "metadata": {},
   "outputs": [
    {
     "data": {
      "text/plain": [
       "season\n",
       "autumn    285.250000\n",
       "rainy     512.682353\n",
       "summer    175.666667\n",
       "winter    369.000000\n",
       "Name: Total Owed, dtype: float64"
      ]
     },
     "execution_count": 21,
     "metadata": {},
     "output_type": "execute_result"
    }
   ],
   "source": [
    "seasonly_spendings=seasonly_spend(RetailOrderHistDF)\n",
    "seasonly_spendings"
   ]
  },
  {
   "cell_type": "code",
   "execution_count": 22,
   "id": "e8220ed3",
   "metadata": {},
   "outputs": [
    {
     "data": {
      "image/png": "[encoded data removed]",
      "text/plain": [
       "<Figure size 640x480 with 1 Axes>"
      ]
     },
     "metadata": {},
     "output_type": "display_data"
    }
   ],
   "source": [
    "from matplotlib import pyplot as plt\n",
    "plt.bar(x=timely_spending.index,height=timely_spending)\n",
    "plt.grid()"
   ]
  },
  {
   "cell_type": "code",
   "execution_count": 23,
   "id": "cd2f1322",
   "metadata": {},
   "outputs": [
    {
     "data": {
      "image/png": "[encoded data removed]",
      "text/plain": [
       "<Figure size 640x480 with 1 Axes>"
      ]
     },
     "metadata": {},
     "output_type": "display_data"
    }
   ],
   "source": [
    "plt.bar(x=seasonly_spendings.index,height=seasonly_spendings)\n",
    "plt.grid()"
   ]
  },
  {
   "cell_type": "code",
   "execution_count": null,
   "id": "b0f1d78a",
   "metadata": {},
   "outputs": [],
   "source": []
  }
 ],
 "metadata": {
  "kernelspec": {
   "display_name": "Python 3.8.5 32-bit",
   "language": "python",
   "name": "python3"
  },
  "language_info": {
   "codemirror_mode": {
    "name": "ipython",
    "version": 3
   },
   "file_extension": ".py",
   "mimetype": "text/x-python",
   "name": "python",
   "nbconvert_exporter": "python",
   "pygments_lexer": "ipython3",
   "version": "3.8.5"
  },
  "vscode": {
   "interpreter": {
    "hash": "e417eef5ef023475f3aa02363265b33ad1e9ce3908697ca825a0af185700de67"
   }
  }
 },
 "nbformat": 4,
 "nbformat_minor": 5
}
