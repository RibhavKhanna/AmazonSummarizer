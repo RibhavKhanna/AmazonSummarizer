{
 "cells": [
  {
   "cell_type": "code",
   "execution_count": 37,
   "metadata": {},
   "outputs": [],
   "source": [
    "import pandas as pd\n",
    "from functions.cleaning import cleaningRetailOrderHistDF\n",
    "from functions.parsing import parseRetailOrderHistDtypes"
   ]
  },
  {
   "cell_type": "code",
   "execution_count": 38,
   "metadata": {},
   "outputs": [
    {
     "data": {
      "text/plain": [
       "(30, 27)"
      ]
     },
     "execution_count": 38,
     "metadata": {},
     "output_type": "execute_result"
    }
   ],
   "source": [
    "RetailOrderHistDF = pd.read_csv(\"D:\\ML wing\\Retail.OrderHistory.2.csv\")\n",
    "RetailOrderHistDF.shape"
   ]
  },
  {
   "cell_type": "code",
   "execution_count": 39,
   "metadata": {},
   "outputs": [],
   "source": [
    "RetailOrderHistDF['Shipping Charge']=RetailOrderHistDF['Shipping Charge'].astype(float)\n",
    "RetailOrderHistDF = parseRetailOrderHistDtypes(cleaningRetailOrderHistDF(RetailOrderHistDF))"
   ]
  },
  {
   "cell_type": "code",
   "execution_count": 40,
   "metadata": {},
   "outputs": [
    {
     "name": "stdout",
     "output_type": "stream",
     "text": [
      "<class 'pandas.core.frame.DataFrame'>\n",
      "Int64Index: 30 entries, 0 to 29\n",
      "Data columns (total 27 columns):\n",
      " #   Column                          Non-Null Count  Dtype              \n",
      "---  ------                          --------------  -----              \n",
      " 0   Website                         30 non-null     object             \n",
      " 1   Order ID                        30 non-null     object             \n",
      " 2   Order Date                      30 non-null     datetime64[ns, UTC]\n",
      " 3   Purchase Order Number           0 non-null      float64            \n",
      " 4   Currency                        30 non-null     object             \n",
      " 5   Unit Price                      30 non-null     float64            \n",
      " 6   Unit Price Tax                  30 non-null     float64            \n",
      " 7   Shipping Charge                 30 non-null     float64            \n",
      " 8   Total Discounts                 30 non-null     float64            \n",
      " 9   Total Owed                      30 non-null     float64            \n",
      " 10  Shipment Item Subtotal          30 non-null     float64            \n",
      " 11  Shipment Item Subtotal Tax      30 non-null     float64            \n",
      " 12  ASIN                            30 non-null     object             \n",
      " 13  Product Condition               30 non-null     object             \n",
      " 14  Quantity                        30 non-null     int64              \n",
      " 15  Payment Instrument Type         4 non-null      object             \n",
      " 16  Order Status                    30 non-null     object             \n",
      " 17  Shipment Status                 28 non-null     object             \n",
      " 18  Ship Date                       30 non-null     datetime64[ns, UTC]\n",
      " 19  Shipping Option                 28 non-null     object             \n",
      " 20  Shipping Address                28 non-null     object             \n",
      " 21  Billing Address                 30 non-null     object             \n",
      " 22  Carrier Name & Tracking Number  26 non-null     object             \n",
      " 23  Product Name                    30 non-null     object             \n",
      " 24  Gift Message                    0 non-null      float64            \n",
      " 25  Gift Sender Name                0 non-null      float64            \n",
      " 26  Gift Recipient Contact Details  0 non-null      float64            \n",
      "dtypes: datetime64[ns, UTC](2), float64(11), int64(1), object(13)\n",
      "memory usage: 5.0+ KB\n"
     ]
    }
   ],
   "source": [
    "RetailOrderHistDF.info()"
   ]
  },
  {
   "cell_type": "code",
   "execution_count": 41,
   "metadata": {},
   "outputs": [],
   "source": [
    "import datetime as dt\n",
    "import calendar as cl\n",
    "def addMonth(df):\n",
    "    months=df.iloc[:,2].dt.month_name(locale=\"English\")\n",
    "    df['month']=months\n",
    "\n",
    "def addTime(df):\n",
    "    time=df.iloc[:,2].dt.hour\n",
    "    times= {(4,5,6,7,8,9,10,11,12): 1, (13,14,15,16): 2, (17,18,19,20): 3, (21,22,23,24,1,2,3): 4}\n",
    "    time_name={\n",
    "        1:\"morning\",\n",
    "        2:\"afternoon\",\n",
    "        3:\"evening\",\n",
    "        4:\"night\"\n",
    "    }\n",
    "    def tm(ser):\n",
    "        for k in times.keys():\n",
    "            if ser in k:\n",
    "                return time_name[times[k]]\n",
    "    df['time']=time.apply(tm)\n",
    "\n",
    "def addSeason(df):\n",
    "    month_no=df.iloc[:,2].dt.month\n",
    "    seasons = {(1, 12, 2): 1, (3, 4, 5): 2, (6, 7, 8): 3, (9, 10, 11): 4}\n",
    "    season_name={\n",
    "        1:\"winter\",\n",
    "        2:\"summer\",\n",
    "        3:\"rainy\",\n",
    "        4:\"autumn\"\n",
    "    }\n",
    "    def season(ser):\n",
    "        for k in seasons.keys():\n",
    "            if ser in k:\n",
    "                return season_name[seasons[k]]\n",
    "\n",
    "    df['season'] = month_no.apply(season)\n"
   ]
  },
  {
   "cell_type": "code",
   "execution_count": 42,
   "metadata": {},
   "outputs": [
    {
     "data": {
      "text/plain": [
       "0     September\n",
       "1     September\n",
       "2     September\n",
       "3        August\n",
       "4        August\n",
       "5        August\n",
       "6        August\n",
       "7        August\n",
       "8        August\n",
       "9        August\n",
       "10       August\n",
       "11         July\n",
       "12         July\n",
       "13         July\n",
       "14         July\n",
       "15         July\n",
       "16         June\n",
       "17         June\n",
       "18         June\n",
       "19         June\n",
       "20          May\n",
       "21          May\n",
       "22          May\n",
       "23          May\n",
       "24          May\n",
       "25          May\n",
       "26          May\n",
       "27     February\n",
       "28      October\n",
       "29       August\n",
       "Name: month, dtype: object"
      ]
     },
     "execution_count": 42,
     "metadata": {},
     "output_type": "execute_result"
    }
   ],
   "source": [
    "addMonth(RetailOrderHistDF)\n",
    "RetailOrderHistDF['month']"
   ]
  },
  {
   "cell_type": "code",
   "execution_count": 43,
   "metadata": {},
   "outputs": [
    {
     "data": {
      "text/plain": [
       "0       morning\n",
       "1       morning\n",
       "2       evening\n",
       "3       morning\n",
       "4       morning\n",
       "5       morning\n",
       "6     afternoon\n",
       "7       morning\n",
       "8       morning\n",
       "9       morning\n",
       "10      evening\n",
       "11      morning\n",
       "12      evening\n",
       "13      morning\n",
       "14      morning\n",
       "15    afternoon\n",
       "16    afternoon\n",
       "17      morning\n",
       "18      morning\n",
       "19      morning\n",
       "20      evening\n",
       "21    afternoon\n",
       "22      morning\n",
       "23      morning\n",
       "24      morning\n",
       "25      morning\n",
       "26      morning\n",
       "27      evening\n",
       "28      evening\n",
       "29      morning\n",
       "Name: time, dtype: object"
      ]
     },
     "execution_count": 43,
     "metadata": {},
     "output_type": "execute_result"
    }
   ],
   "source": [
    "addTime(RetailOrderHistDF)\n",
    "RetailOrderHistDF['time']"
   ]
  },
  {
   "cell_type": "code",
   "execution_count": 44,
   "metadata": {},
   "outputs": [
    {
     "data": {
      "text/plain": [
       "0     autumn\n",
       "1     autumn\n",
       "2     autumn\n",
       "3      rainy\n",
       "4      rainy\n",
       "5      rainy\n",
       "6      rainy\n",
       "7      rainy\n",
       "8      rainy\n",
       "9      rainy\n",
       "10     rainy\n",
       "11     rainy\n",
       "12     rainy\n",
       "13     rainy\n",
       "14     rainy\n",
       "15     rainy\n",
       "16     rainy\n",
       "17     rainy\n",
       "18     rainy\n",
       "19     rainy\n",
       "20    summer\n",
       "21    summer\n",
       "22    summer\n",
       "23    summer\n",
       "24    summer\n",
       "25    summer\n",
       "26    summer\n",
       "27    winter\n",
       "28    autumn\n",
       "29     rainy\n",
       "Name: season, dtype: object"
      ]
     },
     "execution_count": 44,
     "metadata": {},
     "output_type": "execute_result"
    }
   ],
   "source": [
    "addSeason(RetailOrderHistDF)\n",
    "RetailOrderHistDF['season']"
   ]
  },
  {
   "cell_type": "code",
   "execution_count": 45,
   "metadata": {},
   "outputs": [],
   "source": [
    "# Extra feature\n",
    "def addDeliverTime(df):\n",
    "    df['delivery_time']=df['Ship Date']-df['Order Date']\n"
   ]
  },
  {
   "cell_type": "code",
   "execution_count": 46,
   "metadata": {},
   "outputs": [
    {
     "data": {
      "text/plain": [
       "0          2 days 00:39:07\n",
       "1          0 days 04:38:03\n",
       "2          0 days 01:16:29\n",
       "3          0 days 05:44:39\n",
       "4          0 days 08:40:48\n",
       "5          0 days 06:40:48\n",
       "6          0 days 06:12:59\n",
       "7          0 days 23:10:48\n",
       "8          0 days 02:07:35\n",
       "9          1 days 07:01:50\n",
       "10         0 days 00:00:57\n",
       "11         0 days 05:10:23\n",
       "12         0 days 10:09:50\n",
       "13         0 days 03:18:56\n",
       "14   -19190 days +17:02:24\n",
       "15         1 days 01:38:58\n",
       "16         0 days 17:17:29\n",
       "17         0 days 13:50:30\n",
       "18         0 days 02:01:57\n",
       "19         0 days 12:28:31\n",
       "20         0 days 13:38:40\n",
       "21         0 days 14:33:31\n",
       "22         1 days 03:09:20\n",
       "23         1 days 07:48:16\n",
       "24         1 days 07:48:16\n",
       "25         0 days 04:06:31\n",
       "26   -19125 days +13:36:17\n",
       "27         0 days 03:32:10\n",
       "28         0 days 00:14:06\n",
       "29         0 days 00:01:13\n",
       "Name: delivery_time, dtype: timedelta64[ns]"
      ]
     },
     "execution_count": 46,
     "metadata": {},
     "output_type": "execute_result"
    }
   ],
   "source": [
    "addDeliverTime(RetailOrderHistDF)\n",
    "RetailOrderHistDF['delivery_time']"
   ]
  },
  {
   "cell_type": "code",
   "execution_count": 47,
   "metadata": {},
   "outputs": [],
   "source": [
    "def timely_spend(df):\n",
    "    timely_spending=df.groupby(df['time'])['Total Owed'].mean()\n",
    "    return timely_spending"
   ]
  },
  {
   "cell_type": "code",
   "execution_count": 48,
   "metadata": {},
   "outputs": [
    {
     "data": {
      "text/plain": [
       "time\n",
       "afternoon    323.250000\n",
       "evening      501.666667\n",
       "morning      348.830000\n",
       "Name: Total Owed, dtype: float64"
      ]
     },
     "execution_count": 48,
     "metadata": {},
     "output_type": "execute_result"
    }
   ],
   "source": [
    "timely_spending=timely_spend(RetailOrderHistDF)\n",
    "timely_spending"
   ]
  },
  {
   "cell_type": "code",
   "execution_count": 49,
   "metadata": {},
   "outputs": [],
   "source": [
    "def seasonly_spend(df):\n",
    "    seasonly_spending=df.groupby(df['season'])['Total Owed'].mean()\n",
    "    return seasonly_spending"
   ]
  },
  {
   "cell_type": "code",
   "execution_count": 50,
   "metadata": {},
   "outputs": [
    {
     "data": {
      "text/plain": [
       "season\n",
       "autumn    285.250000\n",
       "rainy     484.200000\n",
       "summer    150.571429\n",
       "winter    369.000000\n",
       "Name: Total Owed, dtype: float64"
      ]
     },
     "execution_count": 50,
     "metadata": {},
     "output_type": "execute_result"
    }
   ],
   "source": [
    "seasonly_spendings=seasonly_spend(RetailOrderHistDF)\n",
    "seasonly_spendings"
   ]
  },
  {
   "cell_type": "code",
   "execution_count": 51,
   "metadata": {},
   "outputs": [
    {
     "data": {
      "image/png": "[encoded data removed]",
      "text/plain": [
       "<Figure size 640x480 with 1 Axes>"
      ]
     },
     "metadata": {},
     "output_type": "display_data"
    }
   ],
   "source": [
    "from matplotlib import pyplot as plt\n",
    "plt.bar(x=timely_spending.index,height=timely_spending)\n",
    "plt.grid()"
   ]
  },
  {
   "cell_type": "code",
   "execution_count": 52,
   "metadata": {},
   "outputs": [
    {
     "data": {
      "image/png": "[encoded data removed]",
      "text/plain": [
       "<Figure size 640x480 with 1 Axes>"
      ]
     },
     "metadata": {},
     "output_type": "display_data"
    }
   ],
   "source": [
    "plt.bar(x=seasonly_spendings.index,height=seasonly_spendings)\n",
    "plt.grid()"
   ]
  },
  {
   "cell_type": "code",
   "execution_count": null,
   "metadata": {},
   "outputs": [],
   "source": []
  }
 ],
 "metadata": {
  "kernelspec": {
   "display_name": "Python 3.8.5 32-bit",
   "language": "python",
   "name": "python3"
  },
  "language_info": {
   "codemirror_mode": {
    "name": "ipython",
    "version": 3
   },
   "file_extension": ".py",
   "mimetype": "text/x-python",
   "name": "python",
   "nbconvert_exporter": "python",
   "pygments_lexer": "ipython3",
   "version": "3.8.5"
  },
  "orig_nbformat": 4,
  "vscode": {
   "interpreter": {
    "hash": "e417eef5ef023475f3aa02363265b33ad1e9ce3908697ca825a0af185700de67"
   }
  }
 },
 "nbformat": 4,
 "nbformat_minor": 2
}
